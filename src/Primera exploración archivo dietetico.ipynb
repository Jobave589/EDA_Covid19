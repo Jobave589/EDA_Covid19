{
 "cells": [
  {
   "cell_type": "code",
   "execution_count": 1,
   "metadata": {},
   "outputs": [],
   "source": [
    "import matplotlib.pyplot as plt\n",
    "import pandas as pd\n",
    "import numpy as np\n",
    "import seaborn as sns"
   ]
  },
  {
   "cell_type": "code",
   "execution_count": 6,
   "metadata": {},
   "outputs": [
    {
     "name": "stdout",
     "output_type": "stream",
     "text": [
      "<class 'pandas.core.frame.DataFrame'>\n",
      "RangeIndex: 170 entries, 0 to 169\n",
      "Data columns (total 32 columns):\n",
      " #   Column                        Non-Null Count  Dtype  \n",
      "---  ------                        --------------  -----  \n",
      " 0   Country                       170 non-null    object \n",
      " 1   Alcoholic Beverages           170 non-null    float64\n",
      " 2   Animal Products               170 non-null    float64\n",
      " 3   Animal fats                   170 non-null    float64\n",
      " 4   Aquatic Products, Other       170 non-null    float64\n",
      " 5   Cereals - Excluding Beer      170 non-null    float64\n",
      " 6   Eggs                          170 non-null    float64\n",
      " 7   Fish, Seafood                 170 non-null    float64\n",
      " 8   Fruits - Excluding Wine       170 non-null    float64\n",
      " 9   Meat                          170 non-null    float64\n",
      " 10  Miscellaneous                 170 non-null    float64\n",
      " 11  Milk - Excluding Butter       170 non-null    float64\n",
      " 12  Offals                        170 non-null    float64\n",
      " 13  Oilcrops                      170 non-null    float64\n",
      " 14  Pulses                        170 non-null    float64\n",
      " 15  Spices                        170 non-null    float64\n",
      " 16  Starchy Roots                 170 non-null    float64\n",
      " 17  Stimulants                    170 non-null    float64\n",
      " 18  Sugar Crops                   170 non-null    float64\n",
      " 19  Sugar & Sweeteners            170 non-null    float64\n",
      " 20  Treenuts                      170 non-null    float64\n",
      " 21  Vegetal Products              170 non-null    float64\n",
      " 22  Vegetable Oils                170 non-null    float64\n",
      " 23  Vegetables                    170 non-null    float64\n",
      " 24  Obesity                       167 non-null    float64\n",
      " 25  Undernourished                163 non-null    object \n",
      " 26  Confirmed                     164 non-null    float64\n",
      " 27  Deaths                        164 non-null    float64\n",
      " 28  Recovered                     164 non-null    float64\n",
      " 29  Active                        162 non-null    float64\n",
      " 30  Population                    170 non-null    float64\n",
      " 31  Unit (all except Population)  170 non-null    object \n",
      "dtypes: float64(29), object(3)\n",
      "memory usage: 42.6+ KB\n"
     ]
    }
   ],
   "source": [
    "archivo_grasas = pd.read_csv(r'C:\\DATA_SCIENCE\\EDA_Entrega\\Base de Datos para EDA 1\\Fat_Supply_Quantity_Data.csv')\n",
    "\n",
    "archivo_grasas.info()\n",
    "\n",
    "''' \n",
    "Esta BBDD nos muestra según el tipo de comida la cantidad en porcentaje de los paises de la muestra. \n",
    "'''"
   ]
  },
  {
   "cell_type": "code",
   "execution_count": 7,
   "metadata": {},
   "outputs": [
    {
     "name": "stdout",
     "output_type": "stream",
     "text": [
      "<class 'pandas.core.frame.DataFrame'>\n",
      "RangeIndex: 170 entries, 0 to 169\n",
      "Data columns (total 32 columns):\n",
      " #   Column                        Non-Null Count  Dtype  \n",
      "---  ------                        --------------  -----  \n",
      " 0   Country                       170 non-null    object \n",
      " 1   Alcoholic Beverages           170 non-null    float64\n",
      " 2   Animal Products               170 non-null    float64\n",
      " 3   Animal fats                   170 non-null    float64\n",
      " 4   Aquatic Products, Other       170 non-null    float64\n",
      " 5   Cereals - Excluding Beer      170 non-null    float64\n",
      " 6   Eggs                          170 non-null    float64\n",
      " 7   Fish, Seafood                 170 non-null    float64\n",
      " 8   Fruits - Excluding Wine       170 non-null    float64\n",
      " 9   Meat                          170 non-null    float64\n",
      " 10  Milk - Excluding Butter       170 non-null    float64\n",
      " 11  Miscellaneous                 170 non-null    float64\n",
      " 12  Offals                        170 non-null    float64\n",
      " 13  Oilcrops                      170 non-null    float64\n",
      " 14  Pulses                        170 non-null    float64\n",
      " 15  Spices                        170 non-null    float64\n",
      " 16  Starchy Roots                 170 non-null    float64\n",
      " 17  Stimulants                    170 non-null    float64\n",
      " 18  Sugar Crops                   170 non-null    float64\n",
      " 19  Sugar & Sweeteners            170 non-null    float64\n",
      " 20  Treenuts                      170 non-null    float64\n",
      " 21  Vegetal Products              170 non-null    float64\n",
      " 22  Vegetable Oils                170 non-null    float64\n",
      " 23  Vegetables                    170 non-null    float64\n",
      " 24  Obesity                       167 non-null    float64\n",
      " 25  Undernourished                163 non-null    object \n",
      " 26  Confirmed                     164 non-null    float64\n",
      " 27  Deaths                        164 non-null    float64\n",
      " 28  Recovered                     164 non-null    float64\n",
      " 29  Active                        162 non-null    float64\n",
      " 30  Population                    170 non-null    float64\n",
      " 31  Unit (all except Population)  170 non-null    object \n",
      "dtypes: float64(29), object(3)\n",
      "memory usage: 42.6+ KB\n"
     ]
    }
   ],
   "source": [
    "archivo = pd.read_csv(r'C:\\DATA_SCIENCE\\EDA_Entrega\\Base de Datos para EDA 1\\Food_Supply_kcal_Data.csv')\n",
    "\n",
    "archivo.info()\n",
    "\n",
    "''' \n",
    "Esta BBDD nos muestra según el tipo de comida la cantidad en porcentaje de los paises de la muestra. Pero es muy parecida a la anterior asi\n",
    "que no la tendremos en cuenta para acotar la búsqueda.\n",
    "'''"
   ]
  },
  {
   "cell_type": "code",
   "execution_count": null,
   "metadata": {},
   "outputs": [],
   "source": [
    "\n"
   ]
  },
  {
   "cell_type": "code",
   "execution_count": null,
   "metadata": {},
   "outputs": [],
   "source": []
  }
 ],
 "metadata": {
  "kernelspec": {
   "display_name": "Python 3",
   "language": "python",
   "name": "python3"
  },
  "language_info": {
   "codemirror_mode": {
    "name": "ipython",
    "version": 3
   },
   "file_extension": ".py",
   "mimetype": "text/x-python",
   "name": "python",
   "nbconvert_exporter": "python",
   "pygments_lexer": "ipython3",
   "version": "3.12.5"
  }
 },
 "nbformat": 4,
 "nbformat_minor": 2
}
